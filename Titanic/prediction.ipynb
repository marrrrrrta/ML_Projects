{
 "cells": [
  {
   "cell_type": "markdown",
   "id": "6639d423",
   "metadata": {},
   "source": [
    "# Titanic 🚢"
   ]
  },
  {
   "cell_type": "code",
   "execution_count": null,
   "id": "c75d500d",
   "metadata": {},
   "outputs": [],
   "source": [
    "import numpy as np\n",
    "import pandas as pd\n",
    "from sklearn.ensemble import RandomForestClassifier\n",
    "from sklearn.model_selection import GridSearchCV\n",
    "\n",
    "from sklearn.metrics import accuracy_score\n",
    "from sklearn.metrics import classification_report\n",
    "\n",
    "import joblib\n",
    "\n",
    "# Saving and loading data\n",
    "train_data = pd.read_csv('titanic_data/train.csv')\n",
    "test_data = pd.read_csv('titanic_data/test.csv')"
   ]
  },
  {
   "cell_type": "markdown",
   "id": "5222d038",
   "metadata": {},
   "source": [
    "## 1. Checking data correlations"
   ]
  },
  {
   "cell_type": "code",
   "execution_count": 2,
   "id": "4d993c7c",
   "metadata": {},
   "outputs": [
    {
     "name": "stdout",
     "output_type": "stream",
     "text": [
      "Rate of surviving passengers in class 1:  0.6296296296296297\n",
      "Rate of surviving passengers in class 2:  0.47282608695652173\n",
      "Rate of surviving passengers in class 3:  0.24236252545824846\n",
      "Rate of surviving passengers from S:  0.33695652173913043\n",
      "Rate of surviving passengers from C:  0.5535714285714286\n",
      "Rate of surviving passengers from Q:  0.38961038961038963\n"
     ]
    }
   ],
   "source": [
    "def rates(feature, objective):\n",
    "    item = train_data.loc[train_data[feature] == objective]['Survived']\n",
    "    return sum(item)/len(item)\n",
    "\n",
    "# Pclass\n",
    "for i in range(1, 4):\n",
    "    rate = rates('Pclass', i)\n",
    "    print(f'Rate of surviving passengers in class {i}: ', rate)\n",
    "\n",
    "for i in ['S', 'C', 'Q']:\n",
    "    rate = rates('Embarked', i)\n",
    "    print(f'Rate of surviving passengers from {i}: ', rate)\n",
    "\n"
   ]
  },
  {
   "cell_type": "markdown",
   "id": "a0c6f757",
   "metadata": {},
   "source": [
    "## 2. Feature engineering"
   ]
  },
  {
   "cell_type": "code",
   "execution_count": 3,
   "id": "bd63deb3",
   "metadata": {},
   "outputs": [
    {
     "name": "stdout",
     "output_type": "stream",
     "text": [
      "Rate of surviving passengers with family:  0.30353817504655495\n"
     ]
    }
   ],
   "source": [
    "## Age\n",
    "# Filling missing values with the mean\n",
    "train_data['Age'] = train_data['Age'].fillna(train_data['Age'].mean())\n",
    "\n",
    "## New feature: Family\n",
    "# Creating a new feature for family size\n",
    "train_data['FamilySize'] = train_data['SibSp'] + train_data['Parch']\n",
    "train_data['FamilySize'] = train_data['FamilySize'].apply(lambda x: 1 if x == 0 else 0)\n",
    "\n",
    "test_data['FamilySize'] = test_data['SibSp'] + test_data['Parch']\n",
    "test_data['FamilySize'] = test_data['FamilySize'].apply(lambda x: 1 if x == 0 else 0)\n",
    "\n",
    "rate_family = rates('FamilySize', 1)\n",
    "print('Rate of surviving passengers with family: ', rate_family)"
   ]
  },
  {
   "cell_type": "markdown",
   "id": "34e7ee38",
   "metadata": {},
   "source": [
    "## 3. Training and fitting"
   ]
  },
  {
   "cell_type": "markdown",
   "id": "f50c625f",
   "metadata": {},
   "source": [
    "### Method 1\n",
    "\n",
    "General. We use all of out training data and we test the model on the data used to train it.\n",
    "\n",
    "Problems: \n",
    "- May lead to overestimation of accuracy\n",
    "- Can't tell if it will generalize to new passengers"
   ]
  },
  {
   "cell_type": "code",
   "execution_count": 4,
   "id": "2fb908ea",
   "metadata": {},
   "outputs": [
    {
     "name": "stdout",
     "output_type": "stream",
     "text": [
      "Accuracy of the model:  0.8058361391694725\n",
      "                 precision    recall  f1-score   support\n",
      "\n",
      "Did not survive       0.80      0.91      0.85       549\n",
      "       Survived       0.82      0.63      0.71       342\n",
      "\n",
      "       accuracy                           0.81       891\n",
      "      macro avg       0.81      0.77      0.78       891\n",
      "   weighted avg       0.81      0.81      0.80       891\n",
      "\n"
     ]
    }
   ],
   "source": [
    "# Features and target variable\n",
    "y = train_data['Survived']\n",
    "features = ['Pclass', 'Sex', 'Parch']\n",
    "X = pd.get_dummies(train_data[features])\n",
    "X_test = pd.get_dummies(train_data[features])\n",
    "\n",
    "\n",
    "# Getting the best parameters\n",
    "'''\n",
    "param_grid = {\n",
    "    'n_estimators': [100, 200],\n",
    "    'max_depth': [5, 10, None],\n",
    "    'min_samples_split': [2, 5, 10],\n",
    "}\n",
    "grid_search = GridSearchCV(RandomForestClassifier(random_state=1), param_grid, cv=5)\n",
    "grid_search.fit(X, y)\n",
    "print(\"Best parameters:\", grid_search.best_params_)\n",
    "# Max depth = 5, Min samples split = 2, N estimators = 200\n",
    "'''\n",
    "\n",
    "# Fitting the model\n",
    "rf_model1 = RandomForestClassifier(\n",
    "    n_estimators=200,\n",
    "    max_depth=5,\n",
    "    min_samples_split=2,\n",
    "    random_state=1\n",
    ")\n",
    "rf_model1.fit(X, y)\n",
    "rf_predictions = rf_model1.predict(X_test)\n",
    "\n",
    "# Performance of the prediction\n",
    "rf_accuracy = accuracy_score(y, rf_model1.predict(X))\n",
    "print('Accuracy of the model: ', rf_accuracy)\n",
    "print(classification_report(y, rf_model1.predict(X), target_names=['Did not survive', 'Survived']))"
   ]
  },
  {
   "cell_type": "markdown",
   "id": "79951de8",
   "metadata": {},
   "source": [
    "## 4. Saving the model"
   ]
  },
  {
   "cell_type": "code",
   "execution_count": null,
   "id": "3df25e90",
   "metadata": {},
   "outputs": [],
   "source": [
    "# Saving the model\n",
    "joblib.dump(rf_model1, 'rf_model.pkl')\n",
    "\n",
    "# Loading the model\n",
    "rf_model2 = joblib.load('rf_model.pkl')\n",
    "\n",
    "# Making predictions on the test set\n",
    "X_test = pd.get_dummies(test_data[features])\n",
    "rf_predictions = rf_model2.predict(X_test)\n",
    "\n",
    "# Saving the predictions\n",
    "submission = pd.DataFrame({\n",
    "    'PassengerId': test_data['PassengerId'],\n",
    "    'Survived': rf_predictions\n",
    "})\n",
    "\n",
    "# Saving the submission file\n",
    "submission.to_csv('submission.csv', index=False)"
   ]
  }
 ],
 "metadata": {
  "kernelspec": {
   "display_name": "Python 3",
   "language": "python",
   "name": "python3"
  },
  "language_info": {
   "codemirror_mode": {
    "name": "ipython",
    "version": 3
   },
   "file_extension": ".py",
   "mimetype": "text/x-python",
   "name": "python",
   "nbconvert_exporter": "python",
   "pygments_lexer": "ipython3",
   "version": "3.12.9"
  }
 },
 "nbformat": 4,
 "nbformat_minor": 5
}
